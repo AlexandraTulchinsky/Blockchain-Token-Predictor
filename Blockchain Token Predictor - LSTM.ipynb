{
 "cells": [
  {
   "cell_type": "markdown",
   "id": "ebdc1647",
   "metadata": {},
   "source": [
    "### Blockchain Token Time Series Forcast Analysis \n",
    "\n",
    "This program uses a Recurrent Neural Network (LSTM) to predict the closing price of a blockchain token (Decentraland MANA). "
   ]
  },
  {
   "cell_type": "markdown",
   "id": "eb6d32de",
   "metadata": {},
   "source": [
    "#### Import dependencies"
   ]
  },
  {
   "cell_type": "code",
   "execution_count": 15,
   "id": "8ebad4c9",
   "metadata": {},
   "outputs": [],
   "source": [
    "import pandas as pd\n",
    "import math\n",
    "import numpy as np\n",
    "import matplotlib.pyplot as plt"
   ]
  },
  {
   "cell_type": "markdown",
   "id": "787cbeef",
   "metadata": {},
   "source": [
    "#### Load the data"
   ]
  },
  {
   "cell_type": "code",
   "execution_count": 16,
   "id": "9d260c78",
   "metadata": {},
   "outputs": [],
   "source": [
    "df = pd.read_csv('MANA-USD (1).csv')"
   ]
  },
  {
   "cell_type": "markdown",
   "id": "bd5dc75b",
   "metadata": {},
   "source": [
    "#### Display data"
   ]
  },
  {
   "cell_type": "code",
   "execution_count": 17,
   "id": "aa1a4751",
   "metadata": {},
   "outputs": [
    {
     "data": {
      "text/html": [
       "<div>\n",
       "<style scoped>\n",
       "    .dataframe tbody tr th:only-of-type {\n",
       "        vertical-align: middle;\n",
       "    }\n",
       "\n",
       "    .dataframe tbody tr th {\n",
       "        vertical-align: top;\n",
       "    }\n",
       "\n",
       "    .dataframe thead th {\n",
       "        text-align: right;\n",
       "    }\n",
       "</style>\n",
       "<table border=\"1\" class=\"dataframe\">\n",
       "  <thead>\n",
       "    <tr style=\"text-align: right;\">\n",
       "      <th></th>\n",
       "      <th>Open</th>\n",
       "      <th>High</th>\n",
       "      <th>Low</th>\n",
       "      <th>Close</th>\n",
       "      <th>Adj Close</th>\n",
       "      <th>Volume</th>\n",
       "    </tr>\n",
       "    <tr>\n",
       "      <th>Date</th>\n",
       "      <th></th>\n",
       "      <th></th>\n",
       "      <th></th>\n",
       "      <th></th>\n",
       "      <th></th>\n",
       "      <th></th>\n",
       "    </tr>\n",
       "  </thead>\n",
       "  <tbody>\n",
       "    <tr>\n",
       "      <th>2017-11-09</th>\n",
       "      <td>0.014329</td>\n",
       "      <td>0.016111</td>\n",
       "      <td>0.013886</td>\n",
       "      <td>0.015130</td>\n",
       "      <td>0.015130</td>\n",
       "      <td>653800</td>\n",
       "    </tr>\n",
       "    <tr>\n",
       "      <th>2017-11-10</th>\n",
       "      <td>0.015162</td>\n",
       "      <td>0.015734</td>\n",
       "      <td>0.012645</td>\n",
       "      <td>0.012940</td>\n",
       "      <td>0.012940</td>\n",
       "      <td>296429</td>\n",
       "    </tr>\n",
       "    <tr>\n",
       "      <th>2017-11-11</th>\n",
       "      <td>0.013201</td>\n",
       "      <td>0.013616</td>\n",
       "      <td>0.011758</td>\n",
       "      <td>0.011979</td>\n",
       "      <td>0.011979</td>\n",
       "      <td>237865</td>\n",
       "    </tr>\n",
       "    <tr>\n",
       "      <th>2017-11-12</th>\n",
       "      <td>0.011975</td>\n",
       "      <td>0.011975</td>\n",
       "      <td>0.010125</td>\n",
       "      <td>0.010505</td>\n",
       "      <td>0.010505</td>\n",
       "      <td>242761</td>\n",
       "    </tr>\n",
       "    <tr>\n",
       "      <th>2017-11-13</th>\n",
       "      <td>0.010628</td>\n",
       "      <td>0.011660</td>\n",
       "      <td>0.010628</td>\n",
       "      <td>0.011330</td>\n",
       "      <td>0.011330</td>\n",
       "      <td>225836</td>\n",
       "    </tr>\n",
       "  </tbody>\n",
       "</table>\n",
       "</div>"
      ],
      "text/plain": [
       "                Open      High       Low     Close  Adj Close  Volume\n",
       "Date                                                                 \n",
       "2017-11-09  0.014329  0.016111  0.013886  0.015130   0.015130  653800\n",
       "2017-11-10  0.015162  0.015734  0.012645  0.012940   0.012940  296429\n",
       "2017-11-11  0.013201  0.013616  0.011758  0.011979   0.011979  237865\n",
       "2017-11-12  0.011975  0.011975  0.010125  0.010505   0.010505  242761\n",
       "2017-11-13  0.010628  0.011660  0.010628  0.011330   0.011330  225836"
      ]
     },
     "execution_count": 17,
     "metadata": {},
     "output_type": "execute_result"
    }
   ],
   "source": [
    "df.set_index('Date', inplace = True)\n",
    "df.head()"
   ]
  },
  {
   "cell_type": "code",
   "execution_count": 18,
   "id": "28a0d5cb",
   "metadata": {},
   "outputs": [],
   "source": [
    "data = df.Close\n",
    "data = pd.DataFrame(data)"
   ]
  },
  {
   "cell_type": "markdown",
   "id": "5235febc",
   "metadata": {},
   "source": [
    "#### Feature Scaling , Normalization"
   ]
  },
  {
   "cell_type": "code",
   "execution_count": 19,
   "id": "67bd41d6",
   "metadata": {},
   "outputs": [
    {
     "data": {
      "text/plain": [
       "array([[0.00084573],\n",
       "       [0.00044526],\n",
       "       [0.00026954],\n",
       "       ...,\n",
       "       [0.14685401],\n",
       "       [0.15102357],\n",
       "       [0.15240782]])"
      ]
     },
     "execution_count": 19,
     "metadata": {},
     "output_type": "execute_result"
    }
   ],
   "source": [
    "from sklearn.preprocessing import MinMaxScaler\n",
    "\n",
    "scaler = MinMaxScaler(feature_range=(0,1))\n",
    "scaled_data = scaler.fit_transform(data)\n",
    "scaled_data "
   ]
  },
  {
   "cell_type": "markdown",
   "id": "c72c75cf",
   "metadata": {},
   "source": [
    "#### Train/ Test Split"
   ]
  },
  {
   "cell_type": "markdown",
   "id": "696badae",
   "metadata": {},
   "source": [
    "Train"
   ]
  },
  {
   "cell_type": "code",
   "execution_count": 20,
   "id": "478dd0c0",
   "metadata": {},
   "outputs": [
    {
     "data": {
      "text/plain": [
       "(1308, 60, 1)"
      ]
     },
     "execution_count": 20,
     "metadata": {},
     "output_type": "execute_result"
    }
   ],
   "source": [
    "train_len = math.ceil(len(data)* 0.8)\n",
    "\n",
    "train = scaled_data[0:train_len, :]\n",
    "X_train = []\n",
    "y_train = []\n",
    "\n",
    "for i in range (60, len(train)):\n",
    "    X_train.append(train[i-60:i,0])\n",
    "    y_train.append(train[i,0])\n",
    "    \n",
    "X_train = np.array(X_train)\n",
    "y_train = np.array(y_train)\n",
    "\n",
    "X_train = np.reshape(X_train, (X_train.shape[0], X_train.shape[1],1))\n",
    "X_train.shape"
   ]
  },
  {
   "cell_type": "markdown",
   "id": "09d91113",
   "metadata": {},
   "source": [
    "Test"
   ]
  },
  {
   "cell_type": "code",
   "execution_count": 21,
   "id": "bd43aea0",
   "metadata": {},
   "outputs": [],
   "source": [
    "test = scaled_data[train_len-60:,:]\n",
    "\n",
    "X_test = []\n",
    "y_test = scaled_data[train_len:, :]\n",
    "\n",
    "for i in range (60,len(test)):\n",
    "    X_test.append(test[i-60:i, 0])\n",
    "\n",
    "X_test = np.array(X_test)\n",
    "X_test = np.reshape(X_test, (X_test.shape[0], X_test.shape[1],1))"
   ]
  },
  {
   "cell_type": "markdown",
   "id": "1ca76d63",
   "metadata": {},
   "source": [
    "#### Model"
   ]
  },
  {
   "cell_type": "code",
   "execution_count": 22,
   "id": "4bbd540b",
   "metadata": {},
   "outputs": [],
   "source": [
    "from keras.models import Sequential\n",
    "from keras.layers import Dense, Dropout, LSTM\n",
    "\n",
    "model = Sequential()\n",
    "\n",
    "#first layer with Dropout Regularization\n",
    "model.add(LSTM(50, return_sequences = True, input_shape=(X_train.shape[1],1)))\n",
    "model.add(Dropout(0.2))\n",
    "\n",
    "#second layer with Dropout Regularization\n",
    "model.add(LSTM(50, return_sequences=True))\n",
    "model.add(Dropout(0.2))\n",
    "\n",
    "#third layer with Dropout Regularization\n",
    "model.add(LSTM(50, return_sequences=True))\n",
    "model.add(Dropout(0.2))\n",
    "\n",
    "#fourth layer with Dropout Regularization\n",
    "model.add(LSTM(50))\n",
    "model.add(Dropout(0.2))\n",
    "\n",
    "#output\n",
    "model.add(Dense(1))\n"
   ]
  },
  {
   "cell_type": "code",
   "execution_count": 23,
   "id": "bb9f4a62",
   "metadata": {},
   "outputs": [
    {
     "name": "stdout",
     "output_type": "stream",
     "text": [
      "Epoch 1/15\n",
      "41/41 [==============================] - 7s 76ms/step - loss: 8.2729e-04\n",
      "Epoch 2/15\n",
      "41/41 [==============================] - 3s 77ms/step - loss: 3.5359e-04\n",
      "Epoch 3/15\n",
      "41/41 [==============================] - 3s 79ms/step - loss: 2.9285e-04\n",
      "Epoch 4/15\n",
      "41/41 [==============================] - 3s 78ms/step - loss: 3.1075e-04\n",
      "Epoch 5/15\n",
      "41/41 [==============================] - 3s 77ms/step - loss: 2.9861e-04\n",
      "Epoch 6/15\n",
      "41/41 [==============================] - 3s 76ms/step - loss: 3.0431e-04\n",
      "Epoch 7/15\n",
      "41/41 [==============================] - 3s 77ms/step - loss: 1.9898e-04\n",
      "Epoch 8/15\n",
      "41/41 [==============================] - 3s 71ms/step - loss: 2.1323e-04\n",
      "Epoch 9/15\n",
      "41/41 [==============================] - 3s 68ms/step - loss: 2.2322e-04\n",
      "Epoch 10/15\n",
      "41/41 [==============================] - 2s 60ms/step - loss: 2.3238e-04\n",
      "Epoch 11/15\n",
      "41/41 [==============================] - 2s 57ms/step - loss: 2.2813e-04\n",
      "Epoch 12/15\n",
      "41/41 [==============================] - 3s 69ms/step - loss: 1.6936e-04\n",
      "Epoch 13/15\n",
      "41/41 [==============================] - 3s 63ms/step - loss: 1.7766e-04\n",
      "Epoch 14/15\n",
      "41/41 [==============================] - 3s 63ms/step - loss: 1.6974e-04\n",
      "Epoch 15/15\n",
      "41/41 [==============================] - 7s 161ms/step - loss: 2.2389e-04\n"
     ]
    },
    {
     "data": {
      "text/plain": [
       "<keras.callbacks.History at 0x17e0a9ef850>"
      ]
     },
     "execution_count": 23,
     "metadata": {},
     "output_type": "execute_result"
    }
   ],
   "source": [
    "model.compile(optimizer = 'adam', loss = 'mean_squared_error')\n",
    "\n",
    "model.fit(X_train, y_train, epochs=15)"
   ]
  },
  {
   "cell_type": "code",
   "execution_count": 24,
   "id": "ef6ca63d",
   "metadata": {},
   "outputs": [
    {
     "name": "stdout",
     "output_type": "stream",
     "text": [
      "11/11 [==============================] - 2s 29ms/step\n"
     ]
    }
   ],
   "source": [
    "predictions = model.predict(X_test)\n",
    "predictions = scaler.inverse_transform(predictions)"
   ]
  },
  {
   "cell_type": "markdown",
   "id": "7a00215f",
   "metadata": {},
   "source": [
    "#### Error "
   ]
  },
  {
   "cell_type": "code",
   "execution_count": 25,
   "id": "921d30c2",
   "metadata": {},
   "outputs": [
    {
     "data": {
      "text/plain": [
       "1.1901262867276023"
      ]
     },
     "execution_count": 25,
     "metadata": {},
     "output_type": "execute_result"
    }
   ],
   "source": [
    "rmse = np.sqrt(np.mean(predictions - y_test)**2)\n",
    "rmse"
   ]
  },
  {
   "cell_type": "markdown",
   "id": "19305c2b",
   "metadata": {},
   "source": [
    "#### Visualize the data"
   ]
  },
  {
   "cell_type": "code",
   "execution_count": 26,
   "id": "be3912bd",
   "metadata": {
    "scrolled": true
   },
   "outputs": [
    {
     "name": "stderr",
     "output_type": "stream",
     "text": [
      "C:\\Users\\alex_\\anaconda3\\envs\\Test3\\lib\\site-packages\\pandas\\core\\frame.py:3607: SettingWithCopyWarning: \n",
      "A value is trying to be set on a copy of a slice from a DataFrame.\n",
      "Try using .loc[row_indexer,col_indexer] = value instead\n",
      "\n",
      "See the caveats in the documentation: https://pandas.pydata.org/pandas-docs/stable/user_guide/indexing.html#returning-a-view-versus-a-copy\n",
      "  self._set_item(key, value)\n"
     ]
    },
    {
     "data": {
      "image/png": "[encoded data removed]",
      "text/plain": [
       "<Figure size 1152x576 with 1 Axes>"
      ]
     },
     "metadata": {
      "needs_background": "light"
     },
     "output_type": "display_data"
    }
   ],
   "source": [
    "\n",
    "train = data[:train_len]\n",
    "valid = data[train_len:]\n",
    "valid['Predictions']=predictions\n",
    "\n",
    "plt.figure(figsize=(16,8))\n",
    "plt.title('Model')\n",
    "plt.xlabel('Date',fontsize=18)\n",
    "plt.ylabel('Close Price USD ($)', fontsize=18)\n",
    "plt.plot(train['Close'])\n",
    "plt.plot(valid[['Close','Predictions']])\n",
    "plt.legend(['Train','Validation','Predictions'],loc='lower right')\n",
    "plt.show()"
   ]
  },
  {
   "cell_type": "markdown",
   "id": "15028c80",
   "metadata": {},
   "source": [
    "#### Actual vs Predicted Closing Price"
   ]
  },
  {
   "cell_type": "code",
   "execution_count": 27,
   "id": "50621e8e",
   "metadata": {},
   "outputs": [
    {
     "data": {
      "text/html": [
       "<div>\n",
       "<style scoped>\n",
       "    .dataframe tbody tr th:only-of-type {\n",
       "        vertical-align: middle;\n",
       "    }\n",
       "\n",
       "    .dataframe tbody tr th {\n",
       "        vertical-align: top;\n",
       "    }\n",
       "\n",
       "    .dataframe thead th {\n",
       "        text-align: right;\n",
       "    }\n",
       "</style>\n",
       "<table border=\"1\" class=\"dataframe\">\n",
       "  <thead>\n",
       "    <tr style=\"text-align: right;\">\n",
       "      <th></th>\n",
       "      <th>Close</th>\n",
       "      <th>Predictions</th>\n",
       "    </tr>\n",
       "    <tr>\n",
       "      <th>Date</th>\n",
       "      <th></th>\n",
       "      <th></th>\n",
       "    </tr>\n",
       "  </thead>\n",
       "  <tbody>\n",
       "    <tr>\n",
       "      <th>2021-08-08</th>\n",
       "      <td>0.719177</td>\n",
       "      <td>0.705903</td>\n",
       "    </tr>\n",
       "    <tr>\n",
       "      <th>2021-08-09</th>\n",
       "      <td>0.753815</td>\n",
       "      <td>0.709304</td>\n",
       "    </tr>\n",
       "    <tr>\n",
       "      <th>2021-08-10</th>\n",
       "      <td>0.828038</td>\n",
       "      <td>0.713059</td>\n",
       "    </tr>\n",
       "    <tr>\n",
       "      <th>2021-08-11</th>\n",
       "      <td>0.823656</td>\n",
       "      <td>0.718213</td>\n",
       "    </tr>\n",
       "    <tr>\n",
       "      <th>2021-08-12</th>\n",
       "      <td>0.800826</td>\n",
       "      <td>0.725476</td>\n",
       "    </tr>\n",
       "    <tr>\n",
       "      <th>...</th>\n",
       "      <td>...</td>\n",
       "      <td>...</td>\n",
       "    </tr>\n",
       "    <tr>\n",
       "      <th>2022-07-11</th>\n",
       "      <td>0.807097</td>\n",
       "      <td>0.846181</td>\n",
       "    </tr>\n",
       "    <tr>\n",
       "      <th>2022-07-12</th>\n",
       "      <td>0.785725</td>\n",
       "      <td>0.847749</td>\n",
       "    </tr>\n",
       "    <tr>\n",
       "      <th>2022-07-13</th>\n",
       "      <td>0.813602</td>\n",
       "      <td>0.846397</td>\n",
       "    </tr>\n",
       "    <tr>\n",
       "      <th>2022-07-14</th>\n",
       "      <td>0.836404</td>\n",
       "      <td>0.841619</td>\n",
       "    </tr>\n",
       "    <tr>\n",
       "      <th>2022-07-15</th>\n",
       "      <td>0.843974</td>\n",
       "      <td>0.834302</td>\n",
       "    </tr>\n",
       "  </tbody>\n",
       "</table>\n",
       "<p>342 rows × 2 columns</p>\n",
       "</div>"
      ],
      "text/plain": [
       "               Close  Predictions\n",
       "Date                             \n",
       "2021-08-08  0.719177     0.705903\n",
       "2021-08-09  0.753815     0.709304\n",
       "2021-08-10  0.828038     0.713059\n",
       "2021-08-11  0.823656     0.718213\n",
       "2021-08-12  0.800826     0.725476\n",
       "...              ...          ...\n",
       "2022-07-11  0.807097     0.846181\n",
       "2022-07-12  0.785725     0.847749\n",
       "2022-07-13  0.813602     0.846397\n",
       "2022-07-14  0.836404     0.841619\n",
       "2022-07-15  0.843974     0.834302\n",
       "\n",
       "[342 rows x 2 columns]"
      ]
     },
     "execution_count": 27,
     "metadata": {},
     "output_type": "execute_result"
    }
   ],
   "source": [
    "valid"
   ]
  }
 ],
 "metadata": {
  "kernelspec": {
   "display_name": "Python 3 (ipykernel)",
   "language": "python",
   "name": "python3"
  },
  "language_info": {
   "codemirror_mode": {
    "name": "ipython",
    "version": 3
   },
   "file_extension": ".py",
   "mimetype": "text/x-python",
   "name": "python",
   "nbconvert_exporter": "python",
   "pygments_lexer": "ipython3",
   "version": "3.8.10"
  }
 },
 "nbformat": 4,
 "nbformat_minor": 5
}
