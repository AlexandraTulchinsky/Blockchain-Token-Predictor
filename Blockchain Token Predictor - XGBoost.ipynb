{
 "cells": [
  {
   "cell_type": "markdown",
   "id": "ebdc1647",
   "metadata": {},
   "source": [
    "### Blockchain Token Time Series Forcast Analysis \n",
    "\n",
    "This program uses a supervised machine learning model XGBoost Regression to predict the closing price of a blockchain token (Decentraland MANA). "
   ]
  },
  {
   "cell_type": "code",
   "execution_count": 2,
   "id": "8ebad4c9",
   "metadata": {},
   "outputs": [],
   "source": [
    "#Import dependencies\n",
    "import pandas as pd\n",
    "import numpy as np\n",
    "from sklearn.preprocessing import MinMaxScaler\n",
    "import xgboost as xgb\n",
    "from sklearn.model_selection import RandomizedSearchCV\n",
    "import matplotlib.pyplot as plt\n",
    "plt.style.use('fivethirtyeight')"
   ]
  },
  {
   "cell_type": "code",
   "execution_count": 3,
   "id": "9d260c78",
   "metadata": {},
   "outputs": [
    {
     "data": {
      "text/html": [
       "<div>\n",
       "<style scoped>\n",
       "    .dataframe tbody tr th:only-of-type {\n",
       "        vertical-align: middle;\n",
       "    }\n",
       "\n",
       "    .dataframe tbody tr th {\n",
       "        vertical-align: top;\n",
       "    }\n",
       "\n",
       "    .dataframe thead th {\n",
       "        text-align: right;\n",
       "    }\n",
       "</style>\n",
       "<table border=\"1\" class=\"dataframe\">\n",
       "  <thead>\n",
       "    <tr style=\"text-align: right;\">\n",
       "      <th></th>\n",
       "      <th>Open</th>\n",
       "      <th>High</th>\n",
       "      <th>Low</th>\n",
       "      <th>Close</th>\n",
       "      <th>Adj Close</th>\n",
       "      <th>Volume</th>\n",
       "    </tr>\n",
       "    <tr>\n",
       "      <th>Date</th>\n",
       "      <th></th>\n",
       "      <th></th>\n",
       "      <th></th>\n",
       "      <th></th>\n",
       "      <th></th>\n",
       "      <th></th>\n",
       "    </tr>\n",
       "  </thead>\n",
       "  <tbody>\n",
       "    <tr>\n",
       "      <th>2017-11-09</th>\n",
       "      <td>0.014329</td>\n",
       "      <td>0.016111</td>\n",
       "      <td>0.013886</td>\n",
       "      <td>0.015130</td>\n",
       "      <td>0.015130</td>\n",
       "      <td>653800</td>\n",
       "    </tr>\n",
       "    <tr>\n",
       "      <th>2017-11-10</th>\n",
       "      <td>0.015162</td>\n",
       "      <td>0.015734</td>\n",
       "      <td>0.012645</td>\n",
       "      <td>0.012940</td>\n",
       "      <td>0.012940</td>\n",
       "      <td>296429</td>\n",
       "    </tr>\n",
       "    <tr>\n",
       "      <th>2017-11-11</th>\n",
       "      <td>0.013201</td>\n",
       "      <td>0.013616</td>\n",
       "      <td>0.011758</td>\n",
       "      <td>0.011979</td>\n",
       "      <td>0.011979</td>\n",
       "      <td>237865</td>\n",
       "    </tr>\n",
       "    <tr>\n",
       "      <th>2017-11-12</th>\n",
       "      <td>0.011975</td>\n",
       "      <td>0.011975</td>\n",
       "      <td>0.010125</td>\n",
       "      <td>0.010505</td>\n",
       "      <td>0.010505</td>\n",
       "      <td>242761</td>\n",
       "    </tr>\n",
       "    <tr>\n",
       "      <th>2017-11-13</th>\n",
       "      <td>0.010628</td>\n",
       "      <td>0.011660</td>\n",
       "      <td>0.010628</td>\n",
       "      <td>0.011330</td>\n",
       "      <td>0.011330</td>\n",
       "      <td>225836</td>\n",
       "    </tr>\n",
       "  </tbody>\n",
       "</table>\n",
       "</div>"
      ],
      "text/plain": [
       "                Open      High       Low     Close  Adj Close  Volume\n",
       "Date                                                                 \n",
       "2017-11-09  0.014329  0.016111  0.013886  0.015130   0.015130  653800\n",
       "2017-11-10  0.015162  0.015734  0.012645  0.012940   0.012940  296429\n",
       "2017-11-11  0.013201  0.013616  0.011758  0.011979   0.011979  237865\n",
       "2017-11-12  0.011975  0.011975  0.010125  0.010505   0.010505  242761\n",
       "2017-11-13  0.010628  0.011660  0.010628  0.011330   0.011330  225836"
      ]
     },
     "execution_count": 3,
     "metadata": {},
     "output_type": "execute_result"
    }
   ],
   "source": [
    "#Load data\n",
    "df = pd.read_csv('MANA-USD (1).csv', parse_dates=True,  index_col=\"Date\")\n",
    "df.head()"
   ]
  },
  {
   "cell_type": "code",
   "execution_count": 4,
   "id": "0e9a90d6",
   "metadata": {},
   "outputs": [
    {
     "data": {
      "text/plain": [
       "(1710, 6)"
      ]
     },
     "execution_count": 4,
     "metadata": {},
     "output_type": "execute_result"
    }
   ],
   "source": [
    "df.shape"
   ]
  },
  {
   "cell_type": "code",
   "execution_count": 5,
   "id": "2568e2f9",
   "metadata": {},
   "outputs": [
    {
     "data": {
      "text/plain": [
       "False"
      ]
     },
     "execution_count": 5,
     "metadata": {},
     "output_type": "execute_result"
    }
   ],
   "source": [
    "df.isnull().values.any()"
   ]
  },
  {
   "cell_type": "markdown",
   "id": "b48470ad",
   "metadata": {},
   "source": [
    "### Visualize the data\n",
    "\n",
    "#### Closing price history"
   ]
  },
  {
   "cell_type": "code",
   "execution_count": 6,
   "id": "b97be948",
   "metadata": {},
   "outputs": [
    {
     "data": {
      "image/png": "[encoded data removed]",
      "text/plain": [
       "<Figure size 576x216 with 1 Axes>"
      ]
     },
     "metadata": {},
     "output_type": "display_data"
    }
   ],
   "source": [
    "plt.figure(figsize=(8,3))\n",
    "plt.title('Close Price History',fontsize=15)\n",
    "plt.plot(df.Close, color='royalblue')\n",
    "plt.xlabel('Date', fontsize=13)\n",
    "plt.ylabel('Close Price USD ($)', fontsize=13)\n",
    "plt.show()"
   ]
  },
  {
   "cell_type": "code",
   "execution_count": 7,
   "id": "50c6b7a4",
   "metadata": {},
   "outputs": [
    {
     "data": {
      "text/plain": [
       "(Open         5.161565e+00\n",
       " High         5.902317e+00\n",
       " Low          4.691721e+00\n",
       " Close        5.479181e+00\n",
       " Adj Close    5.479181e+00\n",
       " Volume       1.028121e+10\n",
       " Name: 2021-11-25 00:00:00, dtype: float64,\n",
       " datetime.date(2021, 11, 25))"
      ]
     },
     "execution_count": 7,
     "metadata": {},
     "output_type": "execute_result"
    }
   ],
   "source": [
    "highest_close_price = df.Close.argmax() \n",
    "\n",
    "date = df.index[highest_close_price].date()\n",
    "\n",
    "df.iloc[highest_close_price ], date"
   ]
  },
  {
   "cell_type": "markdown",
   "id": "0b8997d4",
   "metadata": {},
   "source": [
    "#### The closing price peaked on November 25th , 2021, then started to drop significantly in 2022 due to upcoming possible recession and inflation."
   ]
  },
  {
   "cell_type": "markdown",
   "id": "49915adf",
   "metadata": {},
   "source": [
    "### When did a holder get the highest returns?\n",
    "Return = (Close - Open) / Open"
   ]
  },
  {
   "cell_type": "code",
   "execution_count": 8,
   "id": "85099cd3",
   "metadata": {},
   "outputs": [
    {
     "data": {
      "text/html": [
       "<div>\n",
       "<style scoped>\n",
       "    .dataframe tbody tr th:only-of-type {\n",
       "        vertical-align: middle;\n",
       "    }\n",
       "\n",
       "    .dataframe tbody tr th {\n",
       "        vertical-align: top;\n",
       "    }\n",
       "\n",
       "    .dataframe thead th {\n",
       "        text-align: right;\n",
       "    }\n",
       "</style>\n",
       "<table border=\"1\" class=\"dataframe\">\n",
       "  <thead>\n",
       "    <tr style=\"text-align: right;\">\n",
       "      <th></th>\n",
       "      <th>Return</th>\n",
       "    </tr>\n",
       "    <tr>\n",
       "      <th>Date</th>\n",
       "      <th></th>\n",
       "    </tr>\n",
       "  </thead>\n",
       "  <tbody>\n",
       "    <tr>\n",
       "      <th>2017-11-09</th>\n",
       "      <td>0.055901</td>\n",
       "    </tr>\n",
       "    <tr>\n",
       "      <th>2017-11-10</th>\n",
       "      <td>-0.146551</td>\n",
       "    </tr>\n",
       "    <tr>\n",
       "      <th>2017-11-11</th>\n",
       "      <td>-0.092569</td>\n",
       "    </tr>\n",
       "    <tr>\n",
       "      <th>2017-11-12</th>\n",
       "      <td>-0.122756</td>\n",
       "    </tr>\n",
       "    <tr>\n",
       "      <th>2017-11-13</th>\n",
       "      <td>0.066052</td>\n",
       "    </tr>\n",
       "  </tbody>\n",
       "</table>\n",
       "</div>"
      ],
      "text/plain": [
       "              Return\n",
       "Date                \n",
       "2017-11-09  0.055901\n",
       "2017-11-10 -0.146551\n",
       "2017-11-11 -0.092569\n",
       "2017-11-12 -0.122756\n",
       "2017-11-13  0.066052"
      ]
     },
     "execution_count": 8,
     "metadata": {},
     "output_type": "execute_result"
    }
   ],
   "source": [
    "df_returns = (df['Close'] - df['Open']) / df['Open']\n",
    "df_returns = pd.DataFrame(df_returns, columns=['Return'])\n",
    "df_returns.head()"
   ]
  },
  {
   "cell_type": "code",
   "execution_count": 9,
   "id": "cc62a21f",
   "metadata": {},
   "outputs": [
    {
     "data": {
      "image/png": "[encoded data removed]",
      "text/plain": [
       "<Figure size 1080x216 with 1 Axes>"
      ]
     },
     "metadata": {},
     "output_type": "display_data"
    }
   ],
   "source": [
    "plt.figure(figsize=(15,3))\n",
    "plt.title('Return Price History',fontsize=15)\n",
    "plt.plot(df_returns.Return, color='royalblue')\n",
    "plt.xlabel('Date', fontsize=13)\n",
    "plt.ylabel('Return Price USD($)', fontsize=13)\n",
    "plt.show()"
   ]
  },
  {
   "cell_type": "code",
   "execution_count": 10,
   "id": "72eb9a7a",
   "metadata": {},
   "outputs": [
    {
     "data": {
      "text/plain": [
       "(Return    0.061535\n",
       " Name: 2021-11-25 00:00:00, dtype: float64,\n",
       " datetime.date(2021, 10, 30))"
      ]
     },
     "execution_count": 10,
     "metadata": {},
     "output_type": "execute_result"
    }
   ],
   "source": [
    "highest_return_price = df_returns.Return.argmax() \n",
    "\n",
    "date = df.index[highest_return_price].date()\n",
    "\n",
    "df_returns.iloc[highest_close_price ], date"
   ]
  },
  {
   "cell_type": "markdown",
   "id": "69955077",
   "metadata": {},
   "source": [
    "#### The highest return was on October 30th 2021."
   ]
  },
  {
   "cell_type": "markdown",
   "id": "15c8661f",
   "metadata": {},
   "source": [
    "### Transform to supervised learning problem\n",
    "\n",
    "Set target to be the next day's close price"
   ]
  },
  {
   "cell_type": "code",
   "execution_count": 11,
   "id": "8a0e3548",
   "metadata": {},
   "outputs": [
    {
     "data": {
      "text/html": [
       "<div>\n",
       "<style scoped>\n",
       "    .dataframe tbody tr th:only-of-type {\n",
       "        vertical-align: middle;\n",
       "    }\n",
       "\n",
       "    .dataframe tbody tr th {\n",
       "        vertical-align: top;\n",
       "    }\n",
       "\n",
       "    .dataframe thead th {\n",
       "        text-align: right;\n",
       "    }\n",
       "</style>\n",
       "<table border=\"1\" class=\"dataframe\">\n",
       "  <thead>\n",
       "    <tr style=\"text-align: right;\">\n",
       "      <th></th>\n",
       "      <th>Close</th>\n",
       "    </tr>\n",
       "    <tr>\n",
       "      <th>Date</th>\n",
       "      <th></th>\n",
       "    </tr>\n",
       "  </thead>\n",
       "  <tbody>\n",
       "    <tr>\n",
       "      <th>2017-11-09</th>\n",
       "      <td>0.015130</td>\n",
       "    </tr>\n",
       "    <tr>\n",
       "      <th>2017-11-10</th>\n",
       "      <td>0.012940</td>\n",
       "    </tr>\n",
       "    <tr>\n",
       "      <th>2017-11-11</th>\n",
       "      <td>0.011979</td>\n",
       "    </tr>\n",
       "    <tr>\n",
       "      <th>2017-11-12</th>\n",
       "      <td>0.010505</td>\n",
       "    </tr>\n",
       "    <tr>\n",
       "      <th>2017-11-13</th>\n",
       "      <td>0.011330</td>\n",
       "    </tr>\n",
       "  </tbody>\n",
       "</table>\n",
       "</div>"
      ],
      "text/plain": [
       "               Close\n",
       "Date                \n",
       "2017-11-09  0.015130\n",
       "2017-11-10  0.012940\n",
       "2017-11-11  0.011979\n",
       "2017-11-12  0.010505\n",
       "2017-11-13  0.011330"
      ]
     },
     "execution_count": 11,
     "metadata": {},
     "output_type": "execute_result"
    }
   ],
   "source": [
    "df = df.filter(['Close'])\n",
    "df.head(5)"
   ]
  },
  {
   "cell_type": "code",
   "execution_count": 12,
   "id": "a3009599",
   "metadata": {},
   "outputs": [
    {
     "data": {
      "text/html": [
       "<div>\n",
       "<style scoped>\n",
       "    .dataframe tbody tr th:only-of-type {\n",
       "        vertical-align: middle;\n",
       "    }\n",
       "\n",
       "    .dataframe tbody tr th {\n",
       "        vertical-align: top;\n",
       "    }\n",
       "\n",
       "    .dataframe thead th {\n",
       "        text-align: right;\n",
       "    }\n",
       "</style>\n",
       "<table border=\"1\" class=\"dataframe\">\n",
       "  <thead>\n",
       "    <tr style=\"text-align: right;\">\n",
       "      <th></th>\n",
       "      <th>Close</th>\n",
       "      <th>Target</th>\n",
       "    </tr>\n",
       "    <tr>\n",
       "      <th>Date</th>\n",
       "      <th></th>\n",
       "      <th></th>\n",
       "    </tr>\n",
       "  </thead>\n",
       "  <tbody>\n",
       "    <tr>\n",
       "      <th>2017-11-09</th>\n",
       "      <td>0.015130</td>\n",
       "      <td>0.012940</td>\n",
       "    </tr>\n",
       "    <tr>\n",
       "      <th>2017-11-10</th>\n",
       "      <td>0.012940</td>\n",
       "      <td>0.011979</td>\n",
       "    </tr>\n",
       "    <tr>\n",
       "      <th>2017-11-11</th>\n",
       "      <td>0.011979</td>\n",
       "      <td>0.010505</td>\n",
       "    </tr>\n",
       "    <tr>\n",
       "      <th>2017-11-12</th>\n",
       "      <td>0.010505</td>\n",
       "      <td>0.011330</td>\n",
       "    </tr>\n",
       "    <tr>\n",
       "      <th>2017-11-13</th>\n",
       "      <td>0.011330</td>\n",
       "      <td>0.011419</td>\n",
       "    </tr>\n",
       "  </tbody>\n",
       "</table>\n",
       "</div>"
      ],
      "text/plain": [
       "               Close    Target\n",
       "Date                          \n",
       "2017-11-09  0.015130  0.012940\n",
       "2017-11-10  0.012940  0.011979\n",
       "2017-11-11  0.011979  0.010505\n",
       "2017-11-12  0.010505  0.011330\n",
       "2017-11-13  0.011330  0.011419"
      ]
     },
     "execution_count": 12,
     "metadata": {},
     "output_type": "execute_result"
    }
   ],
   "source": [
    "df['Target'] = df.Close.shift(-1)\n",
    "df.dropna(inplace=True)\n",
    "df.head()"
   ]
  },
  {
   "cell_type": "markdown",
   "id": "b071dfec",
   "metadata": {},
   "source": [
    "#### Train / Test Split"
   ]
  },
  {
   "cell_type": "code",
   "execution_count": 13,
   "id": "d7406036",
   "metadata": {},
   "outputs": [],
   "source": [
    "def train_test_split(data, split):\n",
    "    data = data.values\n",
    "    n = int(len(data)*(1-split))\n",
    "    return data[:n], data[n:]\n"
   ]
  },
  {
   "cell_type": "code",
   "execution_count": 14,
   "id": "cf5de29e",
   "metadata": {},
   "outputs": [],
   "source": [
    "train, test = train_test_split(df, 0.2)"
   ]
  },
  {
   "cell_type": "code",
   "execution_count": 15,
   "id": "7af4c876",
   "metadata": {},
   "outputs": [],
   "source": [
    "X_train, y_train = train[:, :-1], train[: , -1]\n",
    "test_X, test_y = test[:, :-1], test[: , -1]"
   ]
  },
  {
   "cell_type": "markdown",
   "id": "bf4ee951",
   "metadata": {},
   "source": [
    "#### Build Model"
   ]
  },
  {
   "cell_type": "code",
   "execution_count": 16,
   "id": "af85bfef",
   "metadata": {},
   "outputs": [],
   "source": [
    "model = xgb.XGBRegressor(objective='reg:squarederror',nthread = 4)\n",
    "\n",
    "params = {\n",
    "        'n_estimators' :  [100, 200, 300, 400],\n",
    "        'eta': [0.05, 0.001, 0.1, 0.2, 0.15, 0.25, 0.3, 0.4],\n",
    "        'max_depth': [8, 10, 12, 15],\n",
    "        'subsample': [0.9, 1.0, 0.8, 0.5, 0.3, 0.4, 0.7, 0.75],\n",
    "        'colsample_bytree': [0.9, 1.0, 0.8, 0.85],\n",
    "        'alpha': [0.1, 0.3, 0.0, 0.4],\n",
    "        'gamma' : [0.001, 0.005, 0.01, 0.02],\n",
    "        'learning_rate' : [0.001, 0.005, 0.01, 0.05],\n",
    "        'lambda' : [1, 1.5, 2, 2.5, 0.5, 2, 2.3, 2.5, 3],\n",
    "        'random_state': [42]\n",
    "   }\n",
    "\n",
    "random_search = RandomizedSearchCV(model, params, n_jobs=-1, cv=5, n_iter=100, scoring='r2')"
   ]
  },
  {
   "cell_type": "code",
   "execution_count": 17,
   "id": "19046de5",
   "metadata": {},
   "outputs": [],
   "source": [
    "random_search.fit(X_train, y_train, verbose=True)\n",
    "\n",
    "best_parameters = random_search.best_params_"
   ]
  },
  {
   "cell_type": "code",
   "execution_count": 18,
   "id": "a04c9401",
   "metadata": {},
   "outputs": [
    {
     "name": "stdout",
     "output_type": "stream",
     "text": [
      "Model Score: \n",
      "\n",
      "0.62\n",
      "\n",
      "\n",
      "Best Parameters: \n",
      "\n",
      "alpha: 0.0\n",
      "colsample_bytree: 1.0\n",
      "eta: 0.05\n",
      "gamma: 0.001\n",
      "lambda: 2\n",
      "learning_rate: 0.05\n",
      "max_depth: 15\n",
      "n_estimators: 400\n",
      "random_state: 42\n",
      "subsample: 0.8\n",
      " \n",
      "Best Estimator: \n",
      "XGBRegressor(alpha=0.0, base_score=0.5, booster='gbtree', callbacks=None,\n",
      "             colsample_bylevel=1, colsample_bynode=1, colsample_bytree=1.0,\n",
      "             early_stopping_rounds=None, enable_categorical=False, eta=0.05,\n",
      "             eval_metric=None, gamma=0.001, gpu_id=-1, grow_policy='depthwise',\n",
      "             importance_type=None, interaction_constraints='', lambda=2,\n",
      "             learning_rate=0.05, max_bin=256, max_cat_to_onehot=4,\n",
      "             max_delta_step=0, max_depth=15, max_leaves=0, min_child_weight=1,\n",
      "             missing=nan, monotone_constraints='()', n_estimators=400, n_jobs=4,\n",
      "             nthread=4, num_parallel_tree=1, ...)\n"
     ]
    }
   ],
   "source": [
    "#Results\n",
    "\n",
    "print('Model Score: '+ '\\n')\n",
    "print(round(random_search.best_score_, 2))\n",
    "print('\\n')\n",
    "print('Best Parameters: ' +'\\n')\n",
    "\n",
    "for param_name in sorted(best_parameters.keys()):\n",
    "    print(\"%s: %r\" % (param_name, best_parameters[param_name]))\n",
    "\n",
    "\n",
    "print(' ')\n",
    "print('Best Estimator: ')\n",
    "print(random_search.best_estimator_)"
   ]
  },
  {
   "cell_type": "code",
   "execution_count": 19,
   "id": "8325ba0c",
   "metadata": {},
   "outputs": [
    {
     "data": {
      "text/plain": [
       "array([0.78148234, 0.6936821 , 0.74280924, 0.86208683, 0.867994  ],\n",
       "      dtype=float32)"
      ]
     },
     "execution_count": 19,
     "metadata": {},
     "output_type": "execute_result"
    }
   ],
   "source": [
    "y_pred = random_search.predict(test_X)\n",
    "\n",
    "y_pred[:5]"
   ]
  },
  {
   "cell_type": "code",
   "execution_count": 20,
   "id": "fec4e384",
   "metadata": {},
   "outputs": [
    {
     "data": {
      "text/plain": [
       "array([0.719177, 0.753815, 0.828038, 0.823656, 0.800826])"
      ]
     },
     "execution_count": 20,
     "metadata": {},
     "output_type": "execute_result"
    }
   ],
   "source": [
    "test_y[:5]"
   ]
  },
  {
   "cell_type": "code",
   "execution_count": 21,
   "id": "e86f972d",
   "metadata": {},
   "outputs": [],
   "source": [
    "#import matplotlib.pyplot as plt\n",
    "#plt.figure(figsize=(16,8))\n",
    "#plt.title('Model')\n",
    "#plt.xlabel('Date',fontsize=18)\n",
    "#plt.ylabel('Close Price USD ($)', fontsize=18)\n",
    "#plt.plot(y_pred)\n",
    "#plt.plot(test_y)\n",
    "#plt.legend(['Predictions', 'Validation'],loc='upper right')\n",
    "#plt.show()"
   ]
  }
 ],
 "metadata": {
  "kernelspec": {
   "display_name": "Python 3 (ipykernel)",
   "language": "python",
   "name": "python3"
  },
  "language_info": {
   "codemirror_mode": {
    "name": "ipython",
    "version": 3
   },
   "file_extension": ".py",
   "mimetype": "text/x-python",
   "name": "python",
   "nbconvert_exporter": "python",
   "pygments_lexer": "ipython3",
   "version": "3.8.10"
  }
 },
 "nbformat": 4,
 "nbformat_minor": 5
}
